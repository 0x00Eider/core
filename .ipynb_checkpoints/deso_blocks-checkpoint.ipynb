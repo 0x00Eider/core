{
 "cells": [
  {
   "cell_type": "code",
   "execution_count": 2,
   "metadata": {},
   "outputs": [],
   "source": [
    "import requests \n",
    "import pandas as pd \n",
    "\n",
    "import datetime"
   ]
  },
  {
   "cell_type": "code",
   "execution_count": null,
   "metadata": {},
   "outputs": [],
   "source": [
    "def getBlockTransactions(block):\n",
    "  # -- get transactions for block\n",
    "  url = 'https://openprosperapi.xyz/api/v0/i/b'\n",
    "  response = requests.post(url, json={'Height': block})\n",
    "\n",
    "  block_data = response.json()['value']\n",
    "  \n",
    "  transactions = block_data['Transactions']\n",
    "\n",
    "  # -- format date \n",
    "  timestamp = block_data['ConfirmationTime']\n",
    "  date =  datetime.datetime.fromtimestamp(timestamp)\n",
    "  date = date.strftime('%Y-%m-%d')\n",
    "\n",
    "  # -- format transactions\n",
    "  formatted_data = []\n",
    "  for transaction in transactions:\n",
    "    if 'Username' not in transaction['Transactor'].keys():\n",
    "      transaction['Transactor']['Username'] = 'None'\n",
    "      \n",
    "    formatted_data.append({\n",
    "      'block': block,\n",
    "      'timestamp': timestamp,\n",
    "      'date': date,\n",
    "      'transaction_id': transaction['TransactionIDBase58Check'],\n",
    "      'action': transaction['Action'],\n",
    "      'category': transaction['Category'],\n",
    "      'user_id': transaction['Transactor']['PublicKeyBase58Check'],\n",
    "      'username': transaction['Transactor']['Username']\n",
    "    })\n",
    "\n",
    "  # -- convert to dataframe\n",
    "  df = pd.DataFrame(formatted_data)\n",
    "\n",
    "  return df \n",
    "\n"
   ]
  },
  {
   "cell_type": "code",
   "execution_count": null,
   "metadata": {},
   "outputs": [],
   "source": [
    "# -- reverse increment through blocks to get all transactions\n",
    "\n",
    "start_block = 203927 # feb  \n",
    "end_block = 194060 # late dec\n",
    "\n",
    "# -- create empty dataframe\n",
    "df = pd.DataFrame()\n",
    "\n",
    "# -- list of bad blocks\n",
    "bad_blocks = []\n",
    "\n",
    "# -- loop through blocks\n",
    "for block in range(start_block, end_block, -1):\n",
    "  try:\n",
    "    # -- get transactions for block\n",
    "    block_data = getBlockTransactions(block)\n",
    "\n",
    "    # -- concat dataframes\n",
    "    df = pd.concat([df, block_data], axis=0)\n",
    "  except:\n",
    "    bad_blocks.append(block)\n",
    "    print('error: ', block)"
   ]
  },
  {
   "cell_type": "code",
   "execution_count": null,
   "metadata": {},
   "outputs": [],
   "source": [
    "df"
   ]
  },
  {
   "cell_type": "code",
   "execution_count": null,
   "metadata": {},
   "outputs": [],
   "source": [
    "# -- check transaction types \n",
    "df.action.unique()"
   ]
  },
  {
   "cell_type": "code",
   "execution_count": null,
   "metadata": {},
   "outputs": [],
   "source": [
    "# -- filter for only jan transactions\n",
    "date_range = (\"2023-01-01\", \"2023-01-31\")\n",
    "\n",
    "df_ = df[(df['date'] >= date_range[0]) & (df['date'] <= date_range[1])]"
   ]
  },
  {
   "cell_type": "code",
   "execution_count": 3,
   "metadata": {},
   "outputs": [
    {
     "ename": "NameError",
     "evalue": "name 'df_' is not defined",
     "output_type": "error",
     "traceback": [
      "\u001b[0;31m---------------------------------------------------------------------------\u001b[0m",
      "\u001b[0;31mNameError\u001b[0m                                 Traceback (most recent call last)",
      "Cell \u001b[0;32mIn [3], line 4\u001b[0m\n\u001b[1;32m      1\u001b[0m \u001b[39m# -- count unique users per engagement type\u001b[39;00m\n\u001b[1;32m      2\u001b[0m actions \u001b[39m=\u001b[39m [\u001b[39m'\u001b[39m\u001b[39mPost\u001b[39m\u001b[39m'\u001b[39m, \u001b[39m'\u001b[39m\u001b[39mRepost\u001b[39m\u001b[39m'\u001b[39m, \u001b[39m'\u001b[39m\u001b[39mReply\u001b[39m\u001b[39m'\u001b[39m]\n\u001b[0;32m----> 4\u001b[0m posts \u001b[39m=\u001b[39m \u001b[39mlen\u001b[39m(df_[df_\u001b[39m.\u001b[39maction \u001b[39m==\u001b[39m \u001b[39m'\u001b[39m\u001b[39mPost\u001b[39m\u001b[39m'\u001b[39m]\u001b[39m.\u001b[39musername\u001b[39m.\u001b[39munique()\u001b[39m.\u001b[39mshape[\u001b[39m0\u001b[39m])\n\u001b[1;32m      5\u001b[0m reposts \u001b[39m=\u001b[39m \u001b[39mlen\u001b[39m(df_[df_\u001b[39m.\u001b[39maction \u001b[39m==\u001b[39m \u001b[39m'\u001b[39m\u001b[39mRepost\u001b[39m\u001b[39m'\u001b[39m]\u001b[39m.\u001b[39musername\u001b[39m.\u001b[39munique()\u001b[39m.\u001b[39mshape[\u001b[39m0\u001b[39m])\n\u001b[1;32m      6\u001b[0m replys \u001b[39m=\u001b[39m \u001b[39mlen\u001b[39m(df_[df_\u001b[39m.\u001b[39maction \u001b[39m==\u001b[39m \u001b[39m'\u001b[39m\u001b[39mReply\u001b[39m\u001b[39m'\u001b[39m]\u001b[39m.\u001b[39musername\u001b[39m.\u001b[39munique()\u001b[39m.\u001b[39mshape[\u001b[39m0\u001b[39m])\n",
      "\u001b[0;31mNameError\u001b[0m: name 'df_' is not defined"
     ]
    }
   ],
   "source": [
    "# -- count unique users per engagement type\n",
    "actions = ['Post', 'Repost', 'Reply']\n",
    "\n",
    "posts = len(df_[df_.action == 'Post'].username.unique().shape[0])\n",
    "reposts = len(df_[df_.action == 'Repost'].username.unique().shape[0])\n",
    "replys = len(df_[df_.action == 'Reply'].username.unique().shape[0])\n",
    "total = len(df_[df_.action.isin(actions)].username.unique().shape[0])\n",
    "\n",
    "print('unique users per engagement type')\n",
    "print('posts: ', posts)\n",
    "print('reposts: ', reposts)\n",
    "print('reply: ', replys)\n",
    "print('total: ', total)"
   ]
  },
  {
   "cell_type": "code",
   "execution_count": null,
   "metadata": {},
   "outputs": [],
   "source": []
  }
 ],
 "metadata": {
  "kernelspec": {
   "display_name": "Python 3.10.7 ('messari-sgk')",
   "language": "python",
   "name": "python3"
  },
  "language_info": {
   "codemirror_mode": {
    "name": "ipython",
    "version": 3
   },
   "file_extension": ".py",
   "mimetype": "text/x-python",
   "name": "python",
   "nbconvert_exporter": "python",
   "pygments_lexer": "ipython3",
   "version": "3.10.7"
  },
  "orig_nbformat": 4,
  "vscode": {
   "interpreter": {
    "hash": "5d5b3a7b72b4ded853d73ac696996736b03bc17992aedb53e00cb9b6b989a7b7"
   }
  }
 },
 "nbformat": 4,
 "nbformat_minor": 2
}
